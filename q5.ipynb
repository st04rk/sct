{
 "cells": [
  {
   "cell_type": "code",
   "execution_count": 2,
   "id": "e87fd83f-dc67-4b61-9bb2-78fe39382bad",
   "metadata": {},
   "outputs": [
    {
     "name": "stdout",
     "output_type": "stream",
     "text": [
      "Input for relation matrix R:\n"
     ]
    },
    {
     "name": "stdin",
     "output_type": "stream",
     "text": [
      "Enter the number of rows for matrix R:  2\n",
      "Enter the number of columns for matrix R:  3\n"
     ]
    },
    {
     "name": "stdout",
     "output_type": "stream",
     "text": [
      "Enter the elements for matrix R:\n"
     ]
    },
    {
     "name": "stdin",
     "output_type": "stream",
     "text": [
      "Row 1:  0.7 0.6 0.5\n",
      "Row 2:  0.8 0.3 0.2\n"
     ]
    },
    {
     "name": "stdout",
     "output_type": "stream",
     "text": [
      "\n",
      "Input for relation matrix S:\n"
     ]
    },
    {
     "name": "stdin",
     "output_type": "stream",
     "text": [
      "Enter the number of rows for matrix S:  3\n",
      "Enter the number of columns for matrix S:  2\n"
     ]
    },
    {
     "name": "stdout",
     "output_type": "stream",
     "text": [
      "Enter the elements for matrix S:\n"
     ]
    },
    {
     "name": "stdin",
     "output_type": "stream",
     "text": [
      "Row 1:  0.8 0.1\n",
      "Row 2:  0.5 0.6\n",
      "Row 3:  0.7 0.2\n"
     ]
    },
    {
     "name": "stdout",
     "output_type": "stream",
     "text": [
      "\n",
      "Result of Max-min Composition:\n",
      "[[0.7 0.6]\n",
      " [0.8 0.3]]\n"
     ]
    }
   ],
   "source": [
    "import numpy as np\n",
    "\n",
    "def max_min_composition(R, S):\n",
    "    result = np.zeros((R.shape[0], S.shape[1]))\n",
    "    for i in range(R.shape[0]):\n",
    "        for j in range(S.shape[1]):\n",
    "            max_min = 0\n",
    "            for k in range(R.shape[1]):\n",
    "                max_min = max(max_min, min(R[i, k], S[k, j]))\n",
    "            result[i, j] = max_min\n",
    "    return result\n",
    "    \n",
    "def get_matrix_input(name):\n",
    "    rows = int(input(f\"Enter the number of rows for matrix {name}: \"))\n",
    "    cols = int(input(f\"Enter the number of columns for matrix {name}: \"))\n",
    "    print(f\"Enter the elements for matrix {name}:\")\n",
    "    \n",
    "    matrix = []\n",
    "    for i in range(rows):\n",
    "        row = list(map(float, input(f\"Row {i+1}: \").split()))\n",
    "        matrix.append(row)\n",
    "    return np.array(matrix)\n",
    "\n",
    "print(\"Input for relation matrix R:\")\n",
    "R = get_matrix_input(\"R\")\n",
    "\n",
    "print(\"\\nInput for relation matrix S:\")\n",
    "S = get_matrix_input(\"S\")\n",
    "\n",
    "if R.shape[1] != S.shape[0]:\n",
    "    print(\"The number of columns in R must be equal to the number of rows in S for max-min composition.\")\n",
    "else:\n",
    "    result = max_min_composition(R, S)\n",
    "    print(\"\\nResult of Max-min Composition:\")\n",
    "    print(result)"
   ]
  },
  {
   "cell_type": "code",
   "execution_count": null,
   "id": "65b440a4-e85a-4087-8627-0fcebba85efe",
   "metadata": {},
   "outputs": [],
   "source": []
  }
 ],
 "metadata": {
  "kernelspec": {
   "display_name": "Python 3 (ipykernel)",
   "language": "python",
   "name": "python3"
  },
  "language_info": {
   "codemirror_mode": {
    "name": "ipython",
    "version": 3
   },
   "file_extension": ".py",
   "mimetype": "text/x-python",
   "name": "python",
   "nbconvert_exporter": "python",
   "pygments_lexer": "ipython3",
   "version": "3.10.12"
  }
 },
 "nbformat": 4,
 "nbformat_minor": 5
}
