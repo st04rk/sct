{
 "cells": [
  {
   "cell_type": "code",
   "execution_count": 1,
   "id": "93a3630e-2d39-4cfb-99b1-235d0edc086f",
   "metadata": {},
   "outputs": [
    {
     "name": "stdout",
     "output_type": "stream",
     "text": [
      "DeMorgan's Law 1:\n",
      "Complement of Union:         [0.6 0.4 0.2 0.1]\n",
      "Intersection of Complements: [0.6 0.4 0.2 0.1]\n",
      "Are they equal?              True\n",
      "\n",
      "DeMorgan's Law 2:\n",
      "Complement of Intersection:  [0.8 0.5 0.3 0.7]\n",
      "Union of Complements:        [0.8 0.5 0.3 0.7]\n",
      "Are they equal?              True\n"
     ]
    }
   ],
   "source": [
    "import numpy as np\n",
    "\n",
    "def complement(fuzzy_set):\n",
    "    \"\"\"Calculate the complement of a fuzzy set.\"\"\"\n",
    "    return 1 - fuzzy_set\n",
    "\n",
    "def union(fuzzy_set1, fuzzy_set2):\n",
    "    \"\"\"Calculate the union of two fuzzy sets.\"\"\"\n",
    "    return np.maximum(fuzzy_set1, fuzzy_set2)\n",
    "\n",
    "def intersection(fuzzy_set1, fuzzy_set2):\n",
    "    \"\"\"Calculate the intersection of two fuzzy sets.\"\"\"\n",
    "    return np.minimum(fuzzy_set1, fuzzy_set2)\n",
    "\n",
    "fuzzy_set_A = np.array([0.2, 0.5, 0.7, 0.9])\n",
    "fuzzy_set_B = np.array([0.4, 0.6, 0.8, 0.3])\n",
    "\n",
    "complement_of_union = complement(union(fuzzy_set_A, fuzzy_set_B))\n",
    "union_of_complements = intersection(complement(fuzzy_set_A), complement(fuzzy_set_B))\n",
    "\n",
    "complement_of_intersection = complement(intersection(fuzzy_set_A, fuzzy_set_B))\n",
    "intersection_of_complements = union(complement(fuzzy_set_A), complement(fuzzy_set_B))\n",
    "\n",
    "print(\"DeMorgan's Law 1:\")\n",
    "print(\"Complement of Union:        \", complement_of_union)\n",
    "print(\"Intersection of Complements:\", union_of_complements)\n",
    "print(\"Are they equal?             \", np.allclose(complement_of_union, union_of_complements))\n",
    "\n",
    "print(\"\\nDeMorgan's Law 2:\")\n",
    "print(\"Complement of Intersection: \", complement_of_intersection)\n",
    "print(\"Union of Complements:       \", intersection_of_complements)\n",
    "print(\"Are they equal?             \", np.allclose(complement_of_intersection, intersection_of_complements))"
   ]
  }
 ],
 "metadata": {
  "kernelspec": {
   "display_name": "Python 3 (ipykernel)",
   "language": "python",
   "name": "python3"
  },
  "language_info": {
   "codemirror_mode": {
    "name": "ipython",
    "version": 3
   },
   "file_extension": ".py",
   "mimetype": "text/x-python",
   "name": "python",
   "nbconvert_exporter": "python",
   "pygments_lexer": "ipython3",
   "version": "3.10.12"
  }
 },
 "nbformat": 4,
 "nbformat_minor": 5
}
