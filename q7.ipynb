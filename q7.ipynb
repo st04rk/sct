{
 "cells": [
  {
   "cell_type": "code",
   "execution_count": 4,
   "id": "84cd221e-128e-4919-9322-7e403010bd97",
   "metadata": {},
   "outputs": [
    {
     "name": "stdout",
     "output_type": "stream",
     "text": [
      "Optimal x: -4.809847783453444\n",
      "Optimal f(x): 23.134635699992007\n"
     ]
    }
   ],
   "source": [
    "import numpy as np\n",
    "\n",
    "def objective_function(x):\n",
    "    return x**2\n",
    "population_size = 50\n",
    "generations = 100\n",
    "mutation_rate = 0.1\n",
    "\n",
    "population = np.random.uniform(-10, 10, size=population_size)\n",
    "\n",
    "for generation in range(generations):\n",
    "    fitness = objective_function(population)\n",
    "    sorted_indices = np.argsort(fitness)[::-1]\n",
    "    selected_population = population[sorted_indices[:population_size]]\n",
    "    crossover_population = np.random.choice(selected_population, size=population_size)\n",
    "    \n",
    "    mutation_mask = np.random.rand(population_size) < mutation_rate\n",
    "    mutation_population = np.random.uniform(-1, 1, size=population_size)\n",
    "    crossover_population[mutation_mask] += mutation_population[mutation_mask]\n",
    "    \n",
    "    population = crossover_population\n",
    "\n",
    "best_individual_index = np.argmax(objective_function(population))\n",
    "best_x = population[best_individual_index]\n",
    "\n",
    "print(f\"Optimal x: {best_x}\")\n",
    "print(f\"Optimal f(x): {objective_function(best_x)}\")"
   ]
  },
  {
   "cell_type": "code",
   "execution_count": null,
   "id": "fe6d7957-37a2-4b03-95e6-29720074a9a5",
   "metadata": {},
   "outputs": [],
   "source": []
  }
 ],
 "metadata": {
  "kernelspec": {
   "display_name": "Python 3 (ipykernel)",
   "language": "python",
   "name": "python3"
  },
  "language_info": {
   "codemirror_mode": {
    "name": "ipython",
    "version": 3
   },
   "file_extension": ".py",
   "mimetype": "text/x-python",
   "name": "python",
   "nbconvert_exporter": "python",
   "pygments_lexer": "ipython3",
   "version": "3.10.12"
  }
 },
 "nbformat": 4,
 "nbformat_minor": 5
}
