{
 "cells": [
  {
   "cell_type": "code",
   "execution_count": 4,
   "id": "742f6aef",
   "metadata": {},
   "outputs": [
    {
     "name": "stdin",
     "output_type": "stream",
     "text": [
      "Enter the numbers:  5\n",
      "Enter the crispy set elements:  1\n",
      "Enter the Membership value (between 0 and 1) for 1 .7\n",
      "Enter the Membership value (between 0 and 1) for 1 .3\n",
      "Enter the crispy set elements:  2\n",
      "Enter the Membership value (between 0 and 1) for 2 .4\n",
      "Enter the Membership value (between 0 and 1) for 2 .5\n",
      "Enter the crispy set elements:  3\n",
      "Enter the Membership value (between 0 and 1) for 3 .6\n",
      "Enter the Membership value (between 0 and 1) for 3 .4\n",
      "Enter the crispy set elements:  4\n",
      "Enter the Membership value (between 0 and 1) for 4 .8\n",
      "Enter the Membership value (between 0 and 1) for 4 .9\n",
      "Enter the crispy set elements:  5\n",
      "Enter the Membership value (between 0 and 1) for 5 .2\n",
      "Enter the Membership value (between 0 and 1) for 5 .1\n"
     ]
    },
    {
     "name": "stdout",
     "output_type": "stream",
     "text": [
      "A={'1': 0.7, '2': 0.4, '3': 0.6, '4': 0.8, '5': 0.2} UNION B={'1': 0.3, '2': 0.5, '3': 0.4, '4': 0.9, '5': 0.1} Is {'1': 0.7, '2': 0.5, '3': 0.6, '4': 0.9, '5': 0.2}\n",
      "A={'1': 0.7, '2': 0.4, '3': 0.6, '4': 0.8, '5': 0.2} Intersection B={'1': 0.3, '2': 0.5, '3': 0.4, '4': 0.9, '5': 0.1} Is {'1': 0.3, '2': 0.4, '3': 0.4, '4': 0.8, '5': 0.1}\n",
      "COMPLIMENT OF A={'1': 0.7, '2': 0.4, '3': 0.6, '4': 0.8, '5': 0.2} IS {'1': 0.3, '2': 0.6, '3': 0.4, '4': 0.2, '5': 0.8}\n",
      "COMPLIMENT OF B={'1': 0.3, '2': 0.5, '3': 0.4, '4': 0.9, '5': 0.1} IS {'1': 0.7, '2': 0.5, '3': 0.6, '4': 0.1, '5': 0.9}\n"
     ]
    }
   ],
   "source": [
    "Z = {}\n",
    "def union(A, B):\n",
    "    for x in A and B:\n",
    "        Z[x] = max(A[x], B[x])\n",
    "    return Z\n",
    "\n",
    "def intersection(A, B):\n",
    "    for x in A and B:\n",
    "        Z[x] = min(A[x], B[x])\n",
    "    return Z\n",
    "\n",
    "def compliment(X):\n",
    "    for x in X:\n",
    "        Z[x] = round(1 - X[x],2)\n",
    "    return Z\n",
    "\n",
    "def get_membership_value(key):\n",
    "    while True:\n",
    "        value = float(input(\"Enter the Membership value (between 0 and 1) for \" + key))\n",
    "        if 0 <= value <= 1:\n",
    "            return value\n",
    "        else:\n",
    "            print(\"Invalid input. Please enter a value between 0 and 1.\")\n",
    "A = {}\n",
    "B = {}\n",
    "\n",
    "no_items = int(input(\"Enter the numbers: \"))\n",
    "for _ in range(no_items):\n",
    "    key = input(\"Enter the crispy set elements: \")\n",
    "    value = get_membership_value(key)\n",
    "    A[key] = value\n",
    "    value = get_membership_value(key)\n",
    "    B[key] = value\n",
    "    \n",
    "print(f\"{A=} UNION {B=} Is {union(A,B)}\")\n",
    "print(f\"{A=} Intersection {B=} Is {intersection(A,B)}\")\n",
    "print(f\"COMPLIMENT OF {A=} IS {compliment(A)}\")\n",
    "print(f\"COMPLIMENT OF {B=} IS {compliment(B)}\")"
   ]
  },
  {
   "cell_type": "code",
   "execution_count": null,
   "id": "c2babde1",
   "metadata": {},
   "outputs": [],
   "source": []
  }
 ],
 "metadata": {
  "kernelspec": {
   "display_name": "Python 3 (ipykernel)",
   "language": "python",
   "name": "python3"
  },
  "language_info": {
   "codemirror_mode": {
    "name": "ipython",
    "version": 3
   },
   "file_extension": ".py",
   "mimetype": "text/x-python",
   "name": "python",
   "nbconvert_exporter": "python",
   "pygments_lexer": "ipython3",
   "version": "3.10.12"
  }
 },
 "nbformat": 4,
 "nbformat_minor": 5
}
